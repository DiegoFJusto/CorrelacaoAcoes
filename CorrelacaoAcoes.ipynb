{
  "nbformat": 4,
  "nbformat_minor": 0,
  "metadata": {
    "colab": {
      "name": "CorrelacaoAcoes.ipynb",
      "provenance": [],
      "collapsed_sections": [],
      "include_colab_link": true
    },
    "kernelspec": {
      "name": "python3",
      "display_name": "Python 3"
    }
  },
  "cells": [
    {
      "cell_type": "markdown",
      "metadata": {
        "id": "view-in-github",
        "colab_type": "text"
      },
      "source": [
        "<a href=\"https://colab.research.google.com/github/DiegoFJusto/CorrelacaoAcoes/blob/main/CorrelacaoAcoes.ipynb\" target=\"_parent\"><img src=\"https://colab.research.google.com/assets/colab-badge.svg\" alt=\"Open In Colab\"/></a>"
      ]
    },
    {
      "cell_type": "markdown",
      "metadata": {
        "id": "F9tbnUP3LPDh"
      },
      "source": [
        "**CORRELAÇÃO** ENTRE AÇÕES DO MERCADO FINANCEIRO"
      ]
    },
    {
      "cell_type": "code",
      "metadata": {
        "id": "-iYrBhtoEsag"
      },
      "source": [
        "#!pip install yfinance\r\n",
        "import yfinance as yf\r\n",
        "import pandas as pd\r\n",
        "import seaborn as sns"
      ],
      "execution_count": null,
      "outputs": []
    },
    {
      "cell_type": "markdown",
      "metadata": {
        "id": "88BcmvEqLXiA"
      },
      "source": [
        "AÇÕES EM ANALISE : **BPAC11, PETROBRAS, BOVESPA E OI**"
      ]
    },
    {
      "cell_type": "code",
      "metadata": {
        "colab": {
          "base_uri": "https://localhost:8080/"
        },
        "id": "PfoW0RsqBY0k",
        "outputId": "1fae50bf-724e-4531-9f6a-4066e95ffbfd"
      },
      "source": [
        "pares = ['GBPUSD=X', 'EURGBP=X', 'USDJPY=X', 'EURJPY=X', 'GBPJPY=X', 'EURUSD=X']\r\n",
        "\r\n",
        "precos = yf.download(pares)\r\n",
        "precos.dropna(inplace=True)"
      ],
      "execution_count": 16,
      "outputs": [
        {
          "output_type": "stream",
          "text": [
            "[*********************100%***********************]  6 of 6 completed\n"
          ],
          "name": "stdout"
        }
      ]
    },
    {
      "cell_type": "code",
      "metadata": {
        "id": "B2zgvHhyF88r"
      },
      "source": [
        "precos_fechamento = precos.Close"
      ],
      "execution_count": 17,
      "outputs": []
    },
    {
      "cell_type": "code",
      "metadata": {
        "colab": {
          "base_uri": "https://localhost:8080/",
          "height": 335
        },
        "id": "4uIrgXm0FXot",
        "outputId": "1e2deec3-cf13-443e-9094-375367068b95"
      },
      "source": [
        "matriz_corr = precos_fechamento.corr()\r\n",
        "sns.heatmap(matriz_corr)"
      ],
      "execution_count": 18,
      "outputs": [
        {
          "output_type": "execute_result",
          "data": {
            "text/plain": [
              "<matplotlib.axes._subplots.AxesSubplot at 0x7fd046579e10>"
            ]
          },
          "metadata": {
            "tags": []
          },
          "execution_count": 18
        },
        {
          "output_type": "display_data",
          "data": {
            "image/png": "[encoded data removed]",
            "text/plain": [
              "<Figure size 432x288 with 2 Axes>"
            ]
          },
          "metadata": {
            "tags": [],
            "needs_background": "light"
          }
        }
      ]
    }
  ]
}